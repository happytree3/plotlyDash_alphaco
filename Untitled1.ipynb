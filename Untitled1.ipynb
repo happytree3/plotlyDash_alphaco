{
 "cells": [
  {
   "cell_type": "code",
   "execution_count": null,
   "id": "2d5a34a3-aaf8-41c4-966a-0e685873572e",
   "metadata": {},
   "outputs": [],
   "source": [
    "<img src = >\n",
    "<img src = > "
   ]
  },
  {
   "cell_type": "markdown",
   "id": "d81da71f-75bb-452c-8446-e6d8d3e8cc6f",
   "metadata": {},
   "source": [
    "<img src = 'https://search.pstatic.net/common/?src=http%3A%2F%2Fblogfiles.naver.net%2FMjAyMzAzMjZfNjAg%2FMDAxNjc5ODMyMDk2Njc5.PuieglaAgRoqzW3oZAqJ2LaUfGR3BSfxgelP-e0rCKcg.IxuaxTI46bIpaAeae-HBKMMEUvpfv5M64hOqVzFCMWQg.JPEG.milky_way159%2FIMG_3662.JPG&type=sc960_832'>"
   ]
  },
  {
   "cell_type": "code",
   "execution_count": null,
   "id": "a30d21b3-2f5a-441b-8c6e-5982555f44af",
   "metadata": {},
   "outputs": [],
   "source": []
  },
  {
   "cell_type": "code",
   "execution_count": null,
   "id": "62ceae20-d6cc-4bb8-bd37-61aaeed95b30",
   "metadata": {},
   "outputs": [],
   "source": []
  }
 ],
 "metadata": {
  "kernelspec": {
   "display_name": "Python 3 (ipykernel)",
   "language": "python",
   "name": "python3"
  },
  "language_info": {
   "codemirror_mode": {
    "name": "ipython",
    "version": 3
   },
   "file_extension": ".py",
   "mimetype": "text/x-python",
   "name": "python",
   "nbconvert_exporter": "python",
   "pygments_lexer": "ipython3",
   "version": "3.9.13"
  }
 },
 "nbformat": 4,
 "nbformat_minor": 5
}
