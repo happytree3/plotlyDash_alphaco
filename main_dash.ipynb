{
 "cells": [
  {
   "cell_type": "code",
   "execution_count": 3,
   "metadata": {},
   "outputs": [
    {
     "name": "stdout",
     "output_type": "stream",
     "text": [
      "Collecting dash_bootstrap_components\n",
      "  Using cached dash_bootstrap_components-1.4.1-py3-none-any.whl (220 kB)\n",
      "Collecting import_ipynb\n",
      "  Using cached import_ipynb-0.1.4-py3-none-any.whl (4.1 kB)\n",
      "Requirement already satisfied: dash>=2.0.0 in c:\\users\\yoo95\\anaconda3\\lib\\site-packages (from dash_bootstrap_components) (2.9.3)\n",
      "Requirement already satisfied: nbformat in c:\\users\\yoo95\\anaconda3\\lib\\site-packages (from import_ipynb) (5.5.0)\n",
      "Requirement already satisfied: IPython in c:\\users\\yoo95\\anaconda3\\lib\\site-packages (from import_ipynb) (7.31.1)\n",
      "Requirement already satisfied: dash-core-components==2.0.0 in c:\\users\\yoo95\\anaconda3\\lib\\site-packages (from dash>=2.0.0->dash_bootstrap_components) (2.0.0)\n",
      "Requirement already satisfied: dash-html-components==2.0.0 in c:\\users\\yoo95\\anaconda3\\lib\\site-packages (from dash>=2.0.0->dash_bootstrap_components) (2.0.0)\n",
      "Requirement already satisfied: Flask>=1.0.4 in c:\\users\\yoo95\\anaconda3\\lib\\site-packages (from dash>=2.0.0->dash_bootstrap_components) (1.1.2)\n",
      "Requirement already satisfied: dash-table==5.0.0 in c:\\users\\yoo95\\anaconda3\\lib\\site-packages (from dash>=2.0.0->dash_bootstrap_components) (5.0.0)\n",
      "Requirement already satisfied: plotly>=5.0.0 in c:\\users\\yoo95\\anaconda3\\lib\\site-packages (from dash>=2.0.0->dash_bootstrap_components) (5.9.0)\n",
      "Requirement already satisfied: colorama in c:\\users\\yoo95\\anaconda3\\lib\\site-packages (from IPython->import_ipynb) (0.4.5)\n",
      "Requirement already satisfied: setuptools>=18.5 in c:\\users\\yoo95\\anaconda3\\lib\\site-packages (from IPython->import_ipynb) (63.4.1)\n",
      "Requirement already satisfied: backcall in c:\\users\\yoo95\\anaconda3\\lib\\site-packages (from IPython->import_ipynb) (0.2.0)\n",
      "Requirement already satisfied: pickleshare in c:\\users\\yoo95\\anaconda3\\lib\\site-packages (from IPython->import_ipynb) (0.7.5)\n",
      "Requirement already satisfied: traitlets>=4.2 in c:\\users\\yoo95\\anaconda3\\lib\\site-packages (from IPython->import_ipynb) (5.1.1)\n",
      "Requirement already satisfied: pygments in c:\\users\\yoo95\\anaconda3\\lib\\site-packages (from IPython->import_ipynb) (2.11.2)\n",
      "Requirement already satisfied: matplotlib-inline in c:\\users\\yoo95\\anaconda3\\lib\\site-packages (from IPython->import_ipynb) (0.1.6)\n",
      "Requirement already satisfied: decorator in c:\\users\\yoo95\\anaconda3\\lib\\site-packages (from IPython->import_ipynb) (5.1.1)\n",
      "Requirement already satisfied: jedi>=0.16 in c:\\users\\yoo95\\anaconda3\\lib\\site-packages (from IPython->import_ipynb) (0.18.1)\n",
      "Requirement already satisfied: prompt-toolkit!=3.0.0,!=3.0.1,<3.1.0,>=2.0.0 in c:\\users\\yoo95\\anaconda3\\lib\\site-packages (from IPython->import_ipynb) (3.0.20)\n",
      "Requirement already satisfied: fastjsonschema in c:\\users\\yoo95\\anaconda3\\lib\\site-packages (from nbformat->import_ipynb) (2.16.2)\n",
      "Requirement already satisfied: jupyter_core in c:\\users\\yoo95\\anaconda3\\lib\\site-packages (from nbformat->import_ipynb) (4.11.1)\n",
      "Requirement already satisfied: jsonschema>=2.6 in c:\\users\\yoo95\\anaconda3\\lib\\site-packages (from nbformat->import_ipynb) (4.16.0)\n",
      "Requirement already satisfied: click>=5.1 in c:\\users\\yoo95\\anaconda3\\lib\\site-packages (from Flask>=1.0.4->dash>=2.0.0->dash_bootstrap_components) (8.0.4)\n",
      "Requirement already satisfied: Jinja2>=2.10.1 in c:\\users\\yoo95\\anaconda3\\lib\\site-packages (from Flask>=1.0.4->dash>=2.0.0->dash_bootstrap_components) (2.11.3)\n",
      "Requirement already satisfied: itsdangerous>=0.24 in c:\\users\\yoo95\\anaconda3\\lib\\site-packages (from Flask>=1.0.4->dash>=2.0.0->dash_bootstrap_components) (2.0.1)\n",
      "Requirement already satisfied: Werkzeug>=0.15 in c:\\users\\yoo95\\anaconda3\\lib\\site-packages (from Flask>=1.0.4->dash>=2.0.0->dash_bootstrap_components) (2.0.3)\n",
      "Requirement already satisfied: parso<0.9.0,>=0.8.0 in c:\\users\\yoo95\\anaconda3\\lib\\site-packages (from jedi>=0.16->IPython->import_ipynb) (0.8.3)\n",
      "Requirement already satisfied: pyrsistent!=0.17.0,!=0.17.1,!=0.17.2,>=0.14.0 in c:\\users\\yoo95\\anaconda3\\lib\\site-packages (from jsonschema>=2.6->nbformat->import_ipynb) (0.18.0)\n",
      "Requirement already satisfied: attrs>=17.4.0 in c:\\users\\yoo95\\anaconda3\\lib\\site-packages (from jsonschema>=2.6->nbformat->import_ipynb) (21.4.0)\n",
      "Requirement already satisfied: tenacity>=6.2.0 in c:\\users\\yoo95\\anaconda3\\lib\\site-packages (from plotly>=5.0.0->dash>=2.0.0->dash_bootstrap_components) (8.0.1)\n",
      "Requirement already satisfied: wcwidth in c:\\users\\yoo95\\anaconda3\\lib\\site-packages (from prompt-toolkit!=3.0.0,!=3.0.1,<3.1.0,>=2.0.0->IPython->import_ipynb) (0.2.6)\n",
      "Requirement already satisfied: pywin32>=1.0 in c:\\users\\yoo95\\anaconda3\\lib\\site-packages (from jupyter_core->nbformat->import_ipynb) (302)\n",
      "Requirement already satisfied: MarkupSafe>=0.23 in c:\\users\\yoo95\\anaconda3\\lib\\site-packages (from Jinja2>=2.10.1->Flask>=1.0.4->dash>=2.0.0->dash_bootstrap_components) (2.0.1)\n",
      "Installing collected packages: import_ipynb, dash_bootstrap_components\n",
      "Successfully installed dash_bootstrap_components-1.4.1 import_ipynb-0.1.4\n"
     ]
    }
   ],
   "source": [
    "!pip install dash_bootstrap_components import_ipynb"
   ]
  },
  {
   "cell_type": "code",
   "execution_count": null,
   "metadata": {},
   "outputs": [],
   "source": []
  },
  {
   "cell_type": "code",
   "execution_count": 4,
   "metadata": {},
   "outputs": [],
   "source": [
    "from dash import Dash, html, dcc, callback, Output, Input\n",
    "import plotly.express as px\n",
    "import pandas as pd\n",
    "from jupyter_dash import JupyterDash\n",
    "import dash_bootstrap_components as dbc\n",
    "import import_ipynb\n"
   ]
  },
  {
   "cell_type": "code",
   "execution_count": 5,
   "metadata": {},
   "outputs": [
    {
     "name": "stdout",
     "output_type": "stream",
     "text": [
<<<<<<< HEAD
      "importing Jupyter notebook from C:\\Users\\yoo95\\Documents\\GitHub\\plotlyDash_alphaco\\util\\google.ipynb\n",
      "importing Jupyter notebook from C:\\Users\\yoo95\\Documents\\GitHub\\plotlyDash_alphaco\\pages\\sampleGraph.ipynb\n",
      "importing Jupyter notebook from C:\\Users\\yoo95\\Documents\\GitHub\\plotlyDash_alphaco\\pages\\repurchase.ipynb\n",
      "importing Jupyter notebook from C:\\Users\\yoo95\\Documents\\GitHub\\plotlyDash_alphaco\\pages\\eventCustomer.ipynb\n",
      "importing Jupyter notebook from C:\\Users\\yoo95\\Documents\\GitHub\\plotlyDash_alphaco\\pages\\eventSales.ipynb\n",
      "importing Jupyter notebook from C:\\Users\\yoo95\\Documents\\GitHub\\plotlyDash_alphaco\\pages\\eventSalesCompare.ipynb\n",
      "importing Jupyter notebook from C:\\Users\\yoo95\\Documents\\GitHub\\plotlyDash_alphaco\\pages\\newCustomer.ipynb\n",
      "importing Jupyter notebook from C:\\Users\\yoo95\\Documents\\GitHub\\plotlyDash_alphaco\\pages\\newCustomerSales.ipynb\n"
=======
      "importing Jupyter notebook from c:\\Users\\dmsgh\\OneDrive\\문서\\plotlyDash_alphaco\\util\\google.ipynb\n",
      "importing Jupyter notebook from c:\\Users\\dmsgh\\OneDrive\\문서\\plotlyDash_alphaco\\pages\\sampleGraph.ipynb\n",
      "importing Jupyter notebook from c:\\Users\\dmsgh\\OneDrive\\문서\\plotlyDash_alphaco\\pages\\repurchase.ipynb\n",
      "importing Jupyter notebook from c:\\Users\\dmsgh\\OneDrive\\문서\\plotlyDash_alphaco\\pages\\eventCustomer.ipynb\n",
      "importing Jupyter notebook from c:\\Users\\dmsgh\\OneDrive\\문서\\plotlyDash_alphaco\\pages\\eventSales.ipynb\n",
      "importing Jupyter notebook from c:\\Users\\dmsgh\\OneDrive\\문서\\plotlyDash_alphaco\\pages\\eventSalesCompare.ipynb\n",
      "importing Jupyter notebook from c:\\Users\\dmsgh\\OneDrive\\문서\\plotlyDash_alphaco\\pages\\newCustomer.ipynb\n",
      "importing Jupyter notebook from c:\\Users\\dmsgh\\OneDrive\\문서\\plotlyDash_alphaco\\pages\\newCustomerSales.ipynb\n"
>>>>>>> 9b0c1dcd5afd44c2f3f3adee464afd73b0b1f7bc
     ]
    }
   ],
   "source": [
    "from util.google import url_to_dataframe\n",
    "\n",
    "from pages.sampleGraph import sample\n",
    "from pages.repurchase import make_page_repurchase\n",
    "from pages.eventCustomer import make_page_event_customer\n",
    "from pages.eventSales import make_page_event_sale\n",
    "from pages.eventSalesCompare import make_page_event_sales_compare\n",
    "from pages.newCustomer import make_page_new_customer\n",
    "from pages.newCustomerSales import make_page_new_customer_sales\n",
    "\n",
    "\n",
    "processed_df_link = \"https://drive.google.com/file/d/1l9S5UU5f7L-OeKWhMRctCdSvVVxlFt_8/view?usp=sharing\"\n",
    "\n",
    "############################\n",
    "\n",
    "df = url_to_dataframe(processed_df_link)\n",
    "df['구매일'] = pd.to_datetime(df['구매일'])\n",
    "\n"
   ]
  },
  {
   "cell_type": "code",
<<<<<<< HEAD
   "execution_count": 6,
   "metadata": {},
   "outputs": [
    {
     "name": "stdout",
     "output_type": "stream",
     "text": [
      "Dash is running on http://127.0.0.1:8050/\n",
      "\n",
      "Dash app running on http://127.0.0.1:8050/\n"
=======
   "execution_count": 4,
   "metadata": {},
   "outputs": [
    {
     "ename": "SyntaxError",
     "evalue": "invalid syntax (3095888568.py, line 10)",
     "output_type": "error",
     "traceback": [
      "\u001b[1;36m  Cell \u001b[1;32mIn[4], line 10\u001b[1;36m\u001b[0m\n\u001b[1;33m    dcc.Tab(label='재구매', children=[]make_page_repurchase(df.copy())),\u001b[0m\n\u001b[1;37m                                    ^\u001b[0m\n\u001b[1;31mSyntaxError\u001b[0m\u001b[1;31m:\u001b[0m invalid syntax\n"
>>>>>>> 9b0c1dcd5afd44c2f3f3adee464afd73b0b1f7bc
     ]
    }
   ],
   "source": [
    "############################\n",
    "\n",
    "layout_repurchase = []\n",
    "layout_repurchase.extend(make_page_repurchase(df.copy()))\n",
    "layout_repurchase.extend(make_page_event_customer(df.copy()))\n",
    "layout_repurchase.extend(make_page_event_sale(df.copy()))\n",
    "layout_repurchase.extend(make_page_event_sales_compare())\n",
    "layout_repurchase.extend(make_page_new_customer(df.copy()))\n",
    "layout_repurchase.extend(make_page_new_customer_sales())\n",
    "\n",
    "tabs = dcc.Tabs([\n",
    "        dcc.Tab(label='현황', children=sample(df.copy())),\n",
    "        dcc.Tab(label='재구매', children=layout_repurchase), \n",
    "        dcc.Tab(label='모델링', children=[]),\n",
    "    ])\n",
    "############################\n",
    "\n",
    "external_stylesheets = ['https://codepen.io/chriddyp/pen/bWLwgP.css', dbc.themes.BOOTSTRAP]\n",
    "\n",
    "app = JupyterDash(\"6조 대쉬보드\", external_stylesheets=external_stylesheets)\n",
    "\n",
    "app.layout = html.Div([tabs])\n",
    "\n",
    "\n",
    "if __name__ == '__main__':\n",
    "    app.run_server(debug=True)"
   ]
  },
  {
   "cell_type": "code",
   "execution_count": null,
   "metadata": {},
   "outputs": [],
   "source": []
  }
 ],
 "metadata": {
  "kernelspec": {
   "display_name": "Python 3 (ipykernel)",
   "language": "python",
   "name": "python3"
  },
  "language_info": {
   "codemirror_mode": {
    "name": "ipython",
    "version": 3
   },
   "file_extension": ".py",
   "mimetype": "text/x-python",
   "name": "python",
   "nbconvert_exporter": "python",
   "pygments_lexer": "ipython3",
<<<<<<< HEAD
   "version": "3.9.13"
=======
   "version": "3.8.6"
>>>>>>> 9b0c1dcd5afd44c2f3f3adee464afd73b0b1f7bc
  },
  "vscode": {
   "interpreter": {
    "hash": "bf0298fd59795c9991315a0c23ba468af34e1a4943ee7c9b647a8b2b1e661b85"
   }
  }
 },
 "nbformat": 4,
 "nbformat_minor": 4
}
